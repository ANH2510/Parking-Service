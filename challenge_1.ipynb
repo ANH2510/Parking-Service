{
 "cells": [
  {
   "cell_type": "code",
   "execution_count": 104,
   "metadata": {},
   "outputs": [],
   "source": [
    "#import the library\n",
    "import pandas as pd\n",
    "import numpy as np\n",
    "import matplotlib.pyplot as plt\n",
    "import seaborn as sns"
   ]
  },
  {
   "cell_type": "code",
   "execution_count": 105,
   "metadata": {},
   "outputs": [],
   "source": [
    "#load datasets\n",
    "path1 = \"..//Parking-Service//Data//Dataset1.xlsx\"\n",
    "path2 = \"..//Parking-Service//Data//Dataset2.xlsx\"\n",
    "data1 = pd.read_excel(path1)\n",
    "data2 = pd.read_excel(path2)"
   ]
  },
  {
   "cell_type": "code",
   "execution_count": 106,
   "metadata": {},
   "outputs": [
    {
     "name": "stdout",
     "output_type": "stream",
     "text": [
      "<class 'pandas.core.frame.DataFrame'>\n",
      "RangeIndex: 5530 entries, 0 to 5529\n",
      "Data columns (total 18 columns):\n",
      " #   Column                   Non-Null Count  Dtype \n",
      "---  ------                   --------------  ----- \n",
      " 0   ID                       5530 non-null   int64 \n",
      " 1   Status                   5530 non-null   object\n",
      " 2   Fine to pay              5530 non-null   int64 \n",
      " 3   Already paid             5530 non-null   int64 \n",
      " 4   Extra Charges            5530 non-null   int64 \n",
      " 5   Cancellation Date        1475 non-null   object\n",
      " 6   Cancellation Reason      1613 non-null   object\n",
      " 7   Payment Date             3431 non-null   object\n",
      " 8   Parking duration         5530 non-null   int64 \n",
      " 9   Day of Violation         5530 non-null   object\n",
      " 10  First Letter             4820 non-null   object\n",
      " 11  Reminder Sent            1224 non-null   object\n",
      " 12  First Warning            514 non-null    object\n",
      " 13  Lot                      5530 non-null   object\n",
      " 14  Total Pay                5530 non-null   int64 \n",
      " 15  Allowed duration         5530 non-null   int64 \n",
      " 16  Exceeded duration        5530 non-null   int64 \n",
      " 17  License plate city code  5529 non-null   object\n",
      "dtypes: int64(8), object(10)\n",
      "memory usage: 777.8+ KB\n"
     ]
    }
   ],
   "source": [
    "data1.info()"
   ]
  },
  {
   "cell_type": "code",
   "execution_count": 107,
   "metadata": {},
   "outputs": [],
   "source": [
    "#How would you definr the payment rate of all offences?\n",
    "#Payment rate = the total already paid / the total fine to pay"
   ]
  },
  {
   "cell_type": "code",
   "execution_count": 108,
   "metadata": {},
   "outputs": [
    {
     "name": "stdout",
     "output_type": "stream",
     "text": [
      "63.99%\n"
     ]
    }
   ],
   "source": [
    "#Payment rate in dataset 1\n",
    "total_already_paid_1= data1['Already paid'].sum()\n",
    "total_fine_to_pay_1 = data1['Fine to pay'].sum()\n",
    "payment_rate_1 = (total_already_paid_1/total_fine_to_pay_1)*100\n",
    "print(f\"{payment_rate_1:.2f}%\")"
   ]
  },
  {
   "cell_type": "code",
   "execution_count": 109,
   "metadata": {},
   "outputs": [
    {
     "name": "stdout",
     "output_type": "stream",
     "text": [
      "35.78%\n"
     ]
    }
   ],
   "source": [
    "#Payment rate in dataset 2\n",
    "total_already_paid_2= data2['Already paid'].sum()\n",
    "total_fine_to_pay_2 = data2['Fine to pay'].sum()\n",
    "payment_rate_2 = (total_already_paid_2/total_fine_to_pay_2)*100\n",
    "print(f\"{payment_rate_2:.2f}%\")"
   ]
  },
  {
   "cell_type": "code",
   "execution_count": 110,
   "metadata": {},
   "outputs": [],
   "source": [
    "#Transform datatype\n",
    "data1['Day of Violation'] = pd.to_datetime(data1['Day of Violation'])\n",
    "data1['First Letter'] = pd.to_datetime(data1['First Letter'])\n",
    "data1['Reminder Sent'] = pd.to_datetime(data1['Reminder Sent'])\n",
    "data1['First Warning'] = pd.to_datetime(data1['First Warning'])\n",
    "data1['Cancellation Date'] = pd.to_datetime(data1['Cancellation Date'])\n",
    "data1['Payment Date'] = pd.to_datetime(data1['Payment Date'])"
   ]
  },
  {
   "cell_type": "code",
   "execution_count": 111,
   "metadata": {},
   "outputs": [],
   "source": [
    "data1['first_ticket_period'] = data1['First Letter'] - data1['Day of Violation']\n",
    "data1['pay_after_first_ticket_period'] = data1['Payment Date'] - data1['First Letter']"
   ]
  },
  {
   "cell_type": "code",
   "execution_count": 112,
   "metadata": {},
   "outputs": [
    {
     "data": {
      "text/html": [
       "<div>\n",
       "<style scoped>\n",
       "    .dataframe tbody tr th:only-of-type {\n",
       "        vertical-align: middle;\n",
       "    }\n",
       "\n",
       "    .dataframe tbody tr th {\n",
       "        vertical-align: top;\n",
       "    }\n",
       "\n",
       "    .dataframe thead th {\n",
       "        text-align: right;\n",
       "    }\n",
       "</style>\n",
       "<table border=\"1\" class=\"dataframe\">\n",
       "  <thead>\n",
       "    <tr style=\"text-align: right;\">\n",
       "      <th></th>\n",
       "      <th>ID</th>\n",
       "      <th>Status</th>\n",
       "      <th>Fine to pay</th>\n",
       "      <th>Already paid</th>\n",
       "      <th>Extra Charges</th>\n",
       "      <th>Cancellation Date</th>\n",
       "      <th>Cancellation Reason</th>\n",
       "      <th>Payment Date</th>\n",
       "      <th>Parking duration</th>\n",
       "      <th>Day of Violation</th>\n",
       "      <th>First Letter</th>\n",
       "      <th>Reminder Sent</th>\n",
       "      <th>First Warning</th>\n",
       "      <th>Lot</th>\n",
       "      <th>Total Pay</th>\n",
       "      <th>Allowed duration</th>\n",
       "      <th>Exceeded duration</th>\n",
       "      <th>License plate city code</th>\n",
       "      <th>first_ticket_period</th>\n",
       "      <th>pay_after_first_ticket_period</th>\n",
       "    </tr>\n",
       "  </thead>\n",
       "  <tbody>\n",
       "    <tr>\n",
       "      <th>0</th>\n",
       "      <td>1</td>\n",
       "      <td>paid</td>\n",
       "      <td>30</td>\n",
       "      <td>30</td>\n",
       "      <td>10</td>\n",
       "      <td>NaT</td>\n",
       "      <td>NaN</td>\n",
       "      <td>2015-11-24</td>\n",
       "      <td>158</td>\n",
       "      <td>2015-11-10</td>\n",
       "      <td>2015-11-12</td>\n",
       "      <td>NaT</td>\n",
       "      <td>NaT</td>\n",
       "      <td>A026</td>\n",
       "      <td>40</td>\n",
       "      <td>120</td>\n",
       "      <td>38</td>\n",
       "      <td>M</td>\n",
       "      <td>2 days</td>\n",
       "      <td>12 days</td>\n",
       "    </tr>\n",
       "    <tr>\n",
       "      <th>1</th>\n",
       "      <td>2</td>\n",
       "      <td>first_warning_sent</td>\n",
       "      <td>30</td>\n",
       "      <td>0</td>\n",
       "      <td>15</td>\n",
       "      <td>NaT</td>\n",
       "      <td>NaN</td>\n",
       "      <td>NaT</td>\n",
       "      <td>1038</td>\n",
       "      <td>2015-11-20</td>\n",
       "      <td>2016-01-12</td>\n",
       "      <td>2016-01-29</td>\n",
       "      <td>2016-02-16</td>\n",
       "      <td>A036</td>\n",
       "      <td>45</td>\n",
       "      <td>120</td>\n",
       "      <td>918</td>\n",
       "      <td>MZ</td>\n",
       "      <td>53 days</td>\n",
       "      <td>NaT</td>\n",
       "    </tr>\n",
       "    <tr>\n",
       "      <th>2</th>\n",
       "      <td>3</td>\n",
       "      <td>paid</td>\n",
       "      <td>40</td>\n",
       "      <td>40</td>\n",
       "      <td>0</td>\n",
       "      <td>NaT</td>\n",
       "      <td>NaN</td>\n",
       "      <td>2015-11-20</td>\n",
       "      <td>666</td>\n",
       "      <td>2015-11-06</td>\n",
       "      <td>2015-11-09</td>\n",
       "      <td>NaT</td>\n",
       "      <td>NaT</td>\n",
       "      <td>A109</td>\n",
       "      <td>40</td>\n",
       "      <td>150</td>\n",
       "      <td>516</td>\n",
       "      <td>MTK</td>\n",
       "      <td>3 days</td>\n",
       "      <td>11 days</td>\n",
       "    </tr>\n",
       "    <tr>\n",
       "      <th>3</th>\n",
       "      <td>4</td>\n",
       "      <td>paid</td>\n",
       "      <td>20</td>\n",
       "      <td>20</td>\n",
       "      <td>0</td>\n",
       "      <td>NaT</td>\n",
       "      <td>NaN</td>\n",
       "      <td>2015-11-19</td>\n",
       "      <td>74</td>\n",
       "      <td>2015-11-10</td>\n",
       "      <td>2015-11-12</td>\n",
       "      <td>NaT</td>\n",
       "      <td>NaT</td>\n",
       "      <td>A129</td>\n",
       "      <td>20</td>\n",
       "      <td>80</td>\n",
       "      <td>-6</td>\n",
       "      <td>FR</td>\n",
       "      <td>2 days</td>\n",
       "      <td>7 days</td>\n",
       "    </tr>\n",
       "    <tr>\n",
       "      <th>4</th>\n",
       "      <td>5</td>\n",
       "      <td>paid</td>\n",
       "      <td>30</td>\n",
       "      <td>40</td>\n",
       "      <td>10</td>\n",
       "      <td>NaT</td>\n",
       "      <td>NaN</td>\n",
       "      <td>2015-12-08</td>\n",
       "      <td>225</td>\n",
       "      <td>2015-11-06</td>\n",
       "      <td>2015-11-27</td>\n",
       "      <td>NaT</td>\n",
       "      <td>NaT</td>\n",
       "      <td>A009</td>\n",
       "      <td>40</td>\n",
       "      <td>185</td>\n",
       "      <td>40</td>\n",
       "      <td>M</td>\n",
       "      <td>21 days</td>\n",
       "      <td>11 days</td>\n",
       "    </tr>\n",
       "  </tbody>\n",
       "</table>\n",
       "</div>"
      ],
      "text/plain": [
       "   ID              Status  Fine to pay  Already paid  Extra Charges  \\\n",
       "0   1                paid           30            30             10   \n",
       "1   2  first_warning_sent           30             0             15   \n",
       "2   3                paid           40            40              0   \n",
       "3   4                paid           20            20              0   \n",
       "4   5                paid           30            40             10   \n",
       "\n",
       "  Cancellation Date Cancellation Reason Payment Date  Parking duration  \\\n",
       "0               NaT                 NaN   2015-11-24               158   \n",
       "1               NaT                 NaN          NaT              1038   \n",
       "2               NaT                 NaN   2015-11-20               666   \n",
       "3               NaT                 NaN   2015-11-19                74   \n",
       "4               NaT                 NaN   2015-12-08               225   \n",
       "\n",
       "  Day of Violation First Letter Reminder Sent First Warning   Lot  Total Pay  \\\n",
       "0       2015-11-10   2015-11-12           NaT           NaT  A026         40   \n",
       "1       2015-11-20   2016-01-12    2016-01-29    2016-02-16  A036         45   \n",
       "2       2015-11-06   2015-11-09           NaT           NaT  A109         40   \n",
       "3       2015-11-10   2015-11-12           NaT           NaT  A129         20   \n",
       "4       2015-11-06   2015-11-27           NaT           NaT  A009         40   \n",
       "\n",
       "   Allowed duration  Exceeded duration License plate city code  \\\n",
       "0               120                 38                       M   \n",
       "1               120                918                      MZ   \n",
       "2               150                516                     MTK   \n",
       "3                80                 -6                      FR   \n",
       "4               185                 40                       M   \n",
       "\n",
       "  first_ticket_period pay_after_first_ticket_period  \n",
       "0              2 days                       12 days  \n",
       "1             53 days                           NaT  \n",
       "2              3 days                       11 days  \n",
       "3              2 days                        7 days  \n",
       "4             21 days                       11 days  "
      ]
     },
     "execution_count": 112,
     "metadata": {},
     "output_type": "execute_result"
    }
   ],
   "source": [
    "data1.head()"
   ]
  },
  {
   "cell_type": "code",
   "execution_count": 113,
   "metadata": {},
   "outputs": [],
   "source": [
    "data1['first_ticket_period'] = data1['first_ticket_period'].dt.days\n",
    "data1['pay_after_first_ticket_period'] = data1['pay_after_first_ticket_period'].dt.days"
   ]
  },
  {
   "cell_type": "code",
   "execution_count": 114,
   "metadata": {},
   "outputs": [
    {
     "data": {
      "text/html": [
       "<div>\n",
       "<style scoped>\n",
       "    .dataframe tbody tr th:only-of-type {\n",
       "        vertical-align: middle;\n",
       "    }\n",
       "\n",
       "    .dataframe tbody tr th {\n",
       "        vertical-align: top;\n",
       "    }\n",
       "\n",
       "    .dataframe thead th {\n",
       "        text-align: right;\n",
       "    }\n",
       "</style>\n",
       "<table border=\"1\" class=\"dataframe\">\n",
       "  <thead>\n",
       "    <tr style=\"text-align: right;\">\n",
       "      <th></th>\n",
       "      <th>ID</th>\n",
       "      <th>Status</th>\n",
       "      <th>Fine to pay</th>\n",
       "      <th>Already paid</th>\n",
       "      <th>Extra Charges</th>\n",
       "      <th>Cancellation Date</th>\n",
       "      <th>Cancellation Reason</th>\n",
       "      <th>Payment Date</th>\n",
       "      <th>Parking duration</th>\n",
       "      <th>Day of Violation</th>\n",
       "      <th>First Letter</th>\n",
       "      <th>Reminder Sent</th>\n",
       "      <th>First Warning</th>\n",
       "      <th>Lot</th>\n",
       "      <th>Total Pay</th>\n",
       "      <th>Allowed duration</th>\n",
       "      <th>Exceeded duration</th>\n",
       "      <th>License plate city code</th>\n",
       "      <th>first_ticket_period</th>\n",
       "      <th>pay_after_first_ticket_period</th>\n",
       "    </tr>\n",
       "  </thead>\n",
       "  <tbody>\n",
       "    <tr>\n",
       "      <th>0</th>\n",
       "      <td>1</td>\n",
       "      <td>paid</td>\n",
       "      <td>30</td>\n",
       "      <td>30</td>\n",
       "      <td>10</td>\n",
       "      <td>NaT</td>\n",
       "      <td>NaN</td>\n",
       "      <td>2015-11-24</td>\n",
       "      <td>158</td>\n",
       "      <td>2015-11-10</td>\n",
       "      <td>2015-11-12</td>\n",
       "      <td>NaT</td>\n",
       "      <td>NaT</td>\n",
       "      <td>A026</td>\n",
       "      <td>40</td>\n",
       "      <td>120</td>\n",
       "      <td>38</td>\n",
       "      <td>M</td>\n",
       "      <td>2.0</td>\n",
       "      <td>12.0</td>\n",
       "    </tr>\n",
       "    <tr>\n",
       "      <th>1</th>\n",
       "      <td>2</td>\n",
       "      <td>first_warning_sent</td>\n",
       "      <td>30</td>\n",
       "      <td>0</td>\n",
       "      <td>15</td>\n",
       "      <td>NaT</td>\n",
       "      <td>NaN</td>\n",
       "      <td>NaT</td>\n",
       "      <td>1038</td>\n",
       "      <td>2015-11-20</td>\n",
       "      <td>2016-01-12</td>\n",
       "      <td>2016-01-29</td>\n",
       "      <td>2016-02-16</td>\n",
       "      <td>A036</td>\n",
       "      <td>45</td>\n",
       "      <td>120</td>\n",
       "      <td>918</td>\n",
       "      <td>MZ</td>\n",
       "      <td>53.0</td>\n",
       "      <td>NaN</td>\n",
       "    </tr>\n",
       "    <tr>\n",
       "      <th>2</th>\n",
       "      <td>3</td>\n",
       "      <td>paid</td>\n",
       "      <td>40</td>\n",
       "      <td>40</td>\n",
       "      <td>0</td>\n",
       "      <td>NaT</td>\n",
       "      <td>NaN</td>\n",
       "      <td>2015-11-20</td>\n",
       "      <td>666</td>\n",
       "      <td>2015-11-06</td>\n",
       "      <td>2015-11-09</td>\n",
       "      <td>NaT</td>\n",
       "      <td>NaT</td>\n",
       "      <td>A109</td>\n",
       "      <td>40</td>\n",
       "      <td>150</td>\n",
       "      <td>516</td>\n",
       "      <td>MTK</td>\n",
       "      <td>3.0</td>\n",
       "      <td>11.0</td>\n",
       "    </tr>\n",
       "    <tr>\n",
       "      <th>3</th>\n",
       "      <td>4</td>\n",
       "      <td>paid</td>\n",
       "      <td>20</td>\n",
       "      <td>20</td>\n",
       "      <td>0</td>\n",
       "      <td>NaT</td>\n",
       "      <td>NaN</td>\n",
       "      <td>2015-11-19</td>\n",
       "      <td>74</td>\n",
       "      <td>2015-11-10</td>\n",
       "      <td>2015-11-12</td>\n",
       "      <td>NaT</td>\n",
       "      <td>NaT</td>\n",
       "      <td>A129</td>\n",
       "      <td>20</td>\n",
       "      <td>80</td>\n",
       "      <td>-6</td>\n",
       "      <td>FR</td>\n",
       "      <td>2.0</td>\n",
       "      <td>7.0</td>\n",
       "    </tr>\n",
       "    <tr>\n",
       "      <th>4</th>\n",
       "      <td>5</td>\n",
       "      <td>paid</td>\n",
       "      <td>30</td>\n",
       "      <td>40</td>\n",
       "      <td>10</td>\n",
       "      <td>NaT</td>\n",
       "      <td>NaN</td>\n",
       "      <td>2015-12-08</td>\n",
       "      <td>225</td>\n",
       "      <td>2015-11-06</td>\n",
       "      <td>2015-11-27</td>\n",
       "      <td>NaT</td>\n",
       "      <td>NaT</td>\n",
       "      <td>A009</td>\n",
       "      <td>40</td>\n",
       "      <td>185</td>\n",
       "      <td>40</td>\n",
       "      <td>M</td>\n",
       "      <td>21.0</td>\n",
       "      <td>11.0</td>\n",
       "    </tr>\n",
       "  </tbody>\n",
       "</table>\n",
       "</div>"
      ],
      "text/plain": [
       "   ID              Status  Fine to pay  Already paid  Extra Charges  \\\n",
       "0   1                paid           30            30             10   \n",
       "1   2  first_warning_sent           30             0             15   \n",
       "2   3                paid           40            40              0   \n",
       "3   4                paid           20            20              0   \n",
       "4   5                paid           30            40             10   \n",
       "\n",
       "  Cancellation Date Cancellation Reason Payment Date  Parking duration  \\\n",
       "0               NaT                 NaN   2015-11-24               158   \n",
       "1               NaT                 NaN          NaT              1038   \n",
       "2               NaT                 NaN   2015-11-20               666   \n",
       "3               NaT                 NaN   2015-11-19                74   \n",
       "4               NaT                 NaN   2015-12-08               225   \n",
       "\n",
       "  Day of Violation First Letter Reminder Sent First Warning   Lot  Total Pay  \\\n",
       "0       2015-11-10   2015-11-12           NaT           NaT  A026         40   \n",
       "1       2015-11-20   2016-01-12    2016-01-29    2016-02-16  A036         45   \n",
       "2       2015-11-06   2015-11-09           NaT           NaT  A109         40   \n",
       "3       2015-11-10   2015-11-12           NaT           NaT  A129         20   \n",
       "4       2015-11-06   2015-11-27           NaT           NaT  A009         40   \n",
       "\n",
       "   Allowed duration  Exceeded duration License plate city code  \\\n",
       "0               120                 38                       M   \n",
       "1               120                918                      MZ   \n",
       "2               150                516                     MTK   \n",
       "3                80                 -6                      FR   \n",
       "4               185                 40                       M   \n",
       "\n",
       "   first_ticket_period  pay_after_first_ticket_period  \n",
       "0                  2.0                           12.0  \n",
       "1                 53.0                            NaN  \n",
       "2                  3.0                           11.0  \n",
       "3                  2.0                            7.0  \n",
       "4                 21.0                           11.0  "
      ]
     },
     "execution_count": 114,
     "metadata": {},
     "output_type": "execute_result"
    }
   ],
   "source": [
    "data1.head()"
   ]
  },
  {
   "cell_type": "code",
   "execution_count": 118,
   "metadata": {},
   "outputs": [
    {
     "data": {
      "text/plain": [
       "(array([4537.,  104.,   40.,   20.,   20.,    9.,    5.,   13.,   41.,\n",
       "          31.]),\n",
       " array([  0. ,  13.3,  26.6,  39.9,  53.2,  66.5,  79.8,  93.1, 106.4,\n",
       "        119.7, 133. ]),\n",
       " <BarContainer object of 10 artists>)"
      ]
     },
     "execution_count": 118,
     "metadata": {},
     "output_type": "execute_result"
    },
    {
     "data": {
      "image/png": "[encoded data removed]",
      "text/plain": [
       "<Figure size 1440x720 with 1 Axes>"
      ]
     },
     "metadata": {
      "needs_background": "light"
     },
     "output_type": "display_data"
    }
   ],
   "source": [
    "plt.figure(figsize=(20,10))\n",
    "plt.hist(data1['first_ticket_period'])"
   ]
  },
  {
   "cell_type": "code",
   "execution_count": 116,
   "metadata": {},
   "outputs": [
    {
     "data": {
      "text/plain": [
       "(array([2.402e+03, 4.690e+02, 1.700e+02, 1.010e+02, 4.800e+01, 1.100e+01,\n",
       "        1.000e+00, 3.000e+00, 0.000e+00, 2.000e+00]),\n",
       " array([ -2. ,  17.8,  37.6,  57.4,  77.2,  97. , 116.8, 136.6, 156.4,\n",
       "        176.2, 196. ]),\n",
       " <BarContainer object of 10 artists>)"
      ]
     },
     "execution_count": 116,
     "metadata": {},
     "output_type": "execute_result"
    },
    {
     "data": {
      "image/png": "[encoded data removed]",
      "text/plain": [
       "<Figure size 432x288 with 1 Axes>"
      ]
     },
     "metadata": {
      "needs_background": "light"
     },
     "output_type": "display_data"
    }
   ],
   "source": [
    "plt.hist(data1['pay_after_first_ticket_period'],)"
   ]
  },
  {
   "cell_type": "code",
   "execution_count": 123,
   "metadata": {},
   "outputs": [
    {
     "data": {
      "text/plain": [
       "Text(0, 0.5, 'first_ticket_period')"
      ]
     },
     "execution_count": 123,
     "metadata": {},
     "output_type": "execute_result"
    },
    {
     "data": {
      "image/png": "[encoded data removed]",
      "text/plain": [
       "<Figure size 1440x720 with 1 Axes>"
      ]
     },
     "metadata": {
      "needs_background": "light"
     },
     "output_type": "display_data"
    }
   ],
   "source": [
    "plt.figure(figsize=(20,10))\n",
    "plt.scatter(x=data1['pay_after_first_ticket_period'], y = data1['first_ticket_period'])\n",
    "plt.xlabel(\"pay_after_first_ticket_period\")\n",
    "plt.ylabel(\"first_ticket_period\")"
   ]
  },
  {
   "cell_type": "code",
   "execution_count": null,
   "metadata": {},
   "outputs": [],
   "source": []
  }
 ],
 "metadata": {
  "interpreter": {
   "hash": "d4537f6523d799823cbc379449d384bd78a1ed94685038b8aab56240f567eba2"
  },
  "kernelspec": {
   "display_name": "Python 3.9.12 64-bit (windows store)",
   "language": "python",
   "name": "python3"
  },
  "language_info": {
   "codemirror_mode": {
    "name": "ipython",
    "version": 3
   },
   "file_extension": ".py",
   "mimetype": "text/x-python",
   "name": "python",
   "nbconvert_exporter": "python",
   "pygments_lexer": "ipython3",
   "version": "3.8.5"
  },
  "orig_nbformat": 4
 },
 "nbformat": 4,
 "nbformat_minor": 2
}
